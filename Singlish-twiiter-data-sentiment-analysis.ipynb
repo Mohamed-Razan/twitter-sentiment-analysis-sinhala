{
 "cells": [
  {
   "cell_type": "markdown",
   "id": "c4ea8a48",
   "metadata": {},
   "source": [
    "# Assignment 1 - 184142R - Razan M.M.M"
   ]
  },
  {
   "cell_type": "markdown",
   "id": "088609d2",
   "metadata": {},
   "source": [
    "# Sentiment analysis of posts by public figures"
   ]
  },
  {
   "cell_type": "markdown",
   "id": "1c508932",
   "metadata": {},
   "source": [
    "Import the needed libraries. Pandas - a python library used to analyze data. nltk - provides us various text processing libraries with a lot of test datasets. re - functions used to check if a particular string matches a given regular expression. matplotlib - library for creating static, animated, and interactive visualizations in Python"
   ]
  },
  {
   "cell_type": "code",
   "execution_count": 1,
   "id": "888e0bef",
   "metadata": {},
   "outputs": [],
   "source": [
    "import pandas as pd\n",
    "import nltk\n",
    "import re\n",
    "import matplotlib.pyplot as plt"
   ]
  },
  {
   "cell_type": "markdown",
   "id": "89969a20",
   "metadata": {},
   "source": [
    "# Import Dataset"
   ]
  },
  {
   "cell_type": "markdown",
   "id": "c293a5ca",
   "metadata": {},
   "source": [
    "\"Singlish\" dataset created by the batch, which includes twitter posts of the public figures and manually annotated as positive/negative based on their impact on the society has been used for the sentiment analysis. 1st 10 data from the dataset has been printed. The columns available in the dataset are Index number of the collected person, Public figures' name, statment, impact and an unnamed column"
   ]
  },
  {
   "cell_type": "code",
   "execution_count": 2,
   "id": "cf515898",
   "metadata": {
    "scrolled": true
   },
   "outputs": [
    {
     "data": {
      "text/html": [
       "<div>\n",
       "<style scoped>\n",
       "    .dataframe tbody tr th:only-of-type {\n",
       "        vertical-align: middle;\n",
       "    }\n",
       "\n",
       "    .dataframe tbody tr th {\n",
       "        vertical-align: top;\n",
       "    }\n",
       "\n",
       "    .dataframe thead th {\n",
       "        text-align: right;\n",
       "    }\n",
       "</style>\n",
       "<table border=\"1\" class=\"dataframe\">\n",
       "  <thead>\n",
       "    <tr style=\"text-align: right;\">\n",
       "      <th></th>\n",
       "      <th>Index</th>\n",
       "      <th>PublicFigure</th>\n",
       "      <th>Statement</th>\n",
       "      <th>Impact</th>\n",
       "      <th>Unnamed: 4</th>\n",
       "    </tr>\n",
       "  </thead>\n",
       "  <tbody>\n",
       "    <tr>\n",
       "      <th>0</th>\n",
       "      <td>184174P</td>\n",
       "      <td>Abisheka Wimalaweera</td>\n",
       "      <td>සාමාන්‍යයෙන් පෞද්ගලික චරිත ගැන ලියන්න හොද  නෑ....</td>\n",
       "      <td>Positive</td>\n",
       "      <td>NaN</td>\n",
       "    </tr>\n",
       "    <tr>\n",
       "      <th>1</th>\n",
       "      <td>NaN</td>\n",
       "      <td>Roshan Fernando</td>\n",
       "      <td>මම නුවරඑළියේ ඉදන් කොළඹට ඇවිල්ලා ගායකයෙක් වෙන්න...</td>\n",
       "      <td>Positive</td>\n",
       "      <td>NaN</td>\n",
       "    </tr>\n",
       "    <tr>\n",
       "      <th>2</th>\n",
       "      <td>NaN</td>\n",
       "      <td>Rasika Jayakodi</td>\n",
       "      <td>Ego system Vs. Eco system \\n\\nසාමාන්‍යයෙන් ලංක...</td>\n",
       "      <td>Positive</td>\n",
       "      <td>NaN</td>\n",
       "    </tr>\n",
       "    <tr>\n",
       "      <th>3</th>\n",
       "      <td>NaN</td>\n",
       "      <td>Peshala Manoj</td>\n",
       "      <td>අද උදේ දැකපු සුන්දර දර්ශණයක්. නුගේගොඩ St.Johns...</td>\n",
       "      <td>Positive</td>\n",
       "      <td>NaN</td>\n",
       "    </tr>\n",
       "    <tr>\n",
       "      <th>4</th>\n",
       "      <td>NaN</td>\n",
       "      <td>Mahinda Deshapriya</td>\n",
       "      <td>Smoking is a bad habit \\nMenda , Danee🏏✌.\\nCri...</td>\n",
       "      <td>Positive</td>\n",
       "      <td>NaN</td>\n",
       "    </tr>\n",
       "    <tr>\n",
       "      <th>5</th>\n",
       "      <td>NaN</td>\n",
       "      <td>Madhavi Anthony</td>\n",
       "      <td>Safety Airbag නැති, Sensors නැති, Auto Break s...</td>\n",
       "      <td>Negative</td>\n",
       "      <td>NaN</td>\n",
       "    </tr>\n",
       "    <tr>\n",
       "      <th>6</th>\n",
       "      <td>NaN</td>\n",
       "      <td>Shalani Tharuka</td>\n",
       "      <td>ජීවිතේ අපිට එක එක ජාතියේ පුද්ගලයින් හමුවෙනවා. ...</td>\n",
       "      <td>Negative</td>\n",
       "      <td>NaN</td>\n",
       "    </tr>\n",
       "    <tr>\n",
       "      <th>7</th>\n",
       "      <td>NaN</td>\n",
       "      <td>Ajith Perera(Master Potter)</td>\n",
       "      <td>උපකරන...\\nඇයි අපිට විතරක් මෙහෙම උනේ...\\nමම ජීව...</td>\n",
       "      <td>Negative</td>\n",
       "      <td>NaN</td>\n",
       "    </tr>\n",
       "    <tr>\n",
       "      <th>8</th>\n",
       "      <td>NaN</td>\n",
       "      <td>Rasika Jayakodi</td>\n",
       "      <td>ඇත්තට ම ආණ්ඩුව විසින් කළ යුතුව තිබුණේ ආදායම් බ...</td>\n",
       "      <td>Negative</td>\n",
       "      <td>NaN</td>\n",
       "    </tr>\n",
       "    <tr>\n",
       "      <th>9</th>\n",
       "      <td>NaN</td>\n",
       "      <td>Tushara Wickramanayaka</td>\n",
       "      <td>දරුවො forward විය යුතුයි - මෙන්න දේශ පාලනයට සු...</td>\n",
       "      <td>Negative</td>\n",
       "      <td>NaN</td>\n",
       "    </tr>\n",
       "  </tbody>\n",
       "</table>\n",
       "</div>"
      ],
      "text/plain": [
       "     Index                 PublicFigure  \\\n",
       "0  184174P         Abisheka Wimalaweera   \n",
       "1      NaN              Roshan Fernando   \n",
       "2      NaN              Rasika Jayakodi   \n",
       "3      NaN                Peshala Manoj   \n",
       "4      NaN           Mahinda Deshapriya   \n",
       "5      NaN              Madhavi Anthony   \n",
       "6      NaN              Shalani Tharuka   \n",
       "7      NaN  Ajith Perera(Master Potter)   \n",
       "8      NaN              Rasika Jayakodi   \n",
       "9      NaN       Tushara Wickramanayaka   \n",
       "\n",
       "                                           Statement    Impact Unnamed: 4  \n",
       "0  සාමාන්‍යයෙන් පෞද්ගලික චරිත ගැන ලියන්න හොද  නෑ....  Positive        NaN  \n",
       "1  මම නුවරඑළියේ ඉදන් කොළඹට ඇවිල්ලා ගායකයෙක් වෙන්න...  Positive        NaN  \n",
       "2  Ego system Vs. Eco system \\n\\nසාමාන්‍යයෙන් ලංක...  Positive        NaN  \n",
       "3  අද උදේ දැකපු සුන්දර දර්ශණයක්. නුගේගොඩ St.Johns...  Positive        NaN  \n",
       "4  Smoking is a bad habit \\nMenda , Danee🏏✌.\\nCri...  Positive        NaN  \n",
       "5  Safety Airbag නැති, Sensors නැති, Auto Break s...  Negative        NaN  \n",
       "6  ජීවිතේ අපිට එක එක ජාතියේ පුද්ගලයින් හමුවෙනවා. ...  Negative        NaN  \n",
       "7  උපකරන...\\nඇයි අපිට විතරක් මෙහෙම උනේ...\\nමම ජීව...  Negative        NaN  \n",
       "8  ඇත්තට ම ආණ්ඩුව විසින් කළ යුතුව තිබුණේ ආදායම් බ...  Negative        NaN  \n",
       "9  දරුවො forward විය යුතුයි - මෙන්න දේශ පාලනයට සු...  Negative        NaN  "
      ]
     },
     "execution_count": 2,
     "metadata": {},
     "output_type": "execute_result"
    }
   ],
   "source": [
    "tweet_corpus = pd.read_csv('./Singlish.csv')\n",
    "tweet_corpus.head(10)"
   ]
  },
  {
   "cell_type": "markdown",
   "id": "3d53944c",
   "metadata": {},
   "source": [
    "Shape function provided by pandas shows the number of rows, columns which is 1119 rows of data and 5 columns of data"
   ]
  },
  {
   "cell_type": "code",
   "execution_count": 3,
   "id": "c982c9e5",
   "metadata": {},
   "outputs": [
    {
     "data": {
      "text/plain": [
       "(1119, 5)"
      ]
     },
     "execution_count": 3,
     "metadata": {},
     "output_type": "execute_result"
    }
   ],
   "source": [
    "tweet_corpus.shape"
   ]
  },
  {
   "cell_type": "markdown",
   "id": "12604995",
   "metadata": {},
   "source": [
    "# Data Preprocessing"
   ]
  },
  {
   "cell_type": "markdown",
   "id": "11f15cf0",
   "metadata": {},
   "source": [
    "### Add a column to get the Length of statments"
   ]
  },
  {
   "cell_type": "markdown",
   "id": "fe3f68f1",
   "metadata": {},
   "source": [
    "A column is added to include the Length of statments which is the number of charachers available in a sentence. I have printed the 1st 5 rows of data to visualize."
   ]
  },
  {
   "cell_type": "code",
   "execution_count": 4,
   "id": "8616ba82",
   "metadata": {
    "scrolled": true
   },
   "outputs": [
    {
     "data": {
      "text/html": [
       "<div>\n",
       "<style scoped>\n",
       "    .dataframe tbody tr th:only-of-type {\n",
       "        vertical-align: middle;\n",
       "    }\n",
       "\n",
       "    .dataframe tbody tr th {\n",
       "        vertical-align: top;\n",
       "    }\n",
       "\n",
       "    .dataframe thead th {\n",
       "        text-align: right;\n",
       "    }\n",
       "</style>\n",
       "<table border=\"1\" class=\"dataframe\">\n",
       "  <thead>\n",
       "    <tr style=\"text-align: right;\">\n",
       "      <th></th>\n",
       "      <th>Index</th>\n",
       "      <th>PublicFigure</th>\n",
       "      <th>Statement</th>\n",
       "      <th>Impact</th>\n",
       "      <th>Unnamed: 4</th>\n",
       "      <th>Length of Statment</th>\n",
       "    </tr>\n",
       "  </thead>\n",
       "  <tbody>\n",
       "    <tr>\n",
       "      <th>0</th>\n",
       "      <td>184174P</td>\n",
       "      <td>Abisheka Wimalaweera</td>\n",
       "      <td>සාමාන්‍යයෙන් පෞද්ගලික චරිත ගැන ලියන්න හොද  නෑ....</td>\n",
       "      <td>Positive</td>\n",
       "      <td>NaN</td>\n",
       "      <td>479</td>\n",
       "    </tr>\n",
       "    <tr>\n",
       "      <th>1</th>\n",
       "      <td>NaN</td>\n",
       "      <td>Roshan Fernando</td>\n",
       "      <td>මම නුවරඑළියේ ඉදන් කොළඹට ඇවිල්ලා ගායකයෙක් වෙන්න...</td>\n",
       "      <td>Positive</td>\n",
       "      <td>NaN</td>\n",
       "      <td>403</td>\n",
       "    </tr>\n",
       "    <tr>\n",
       "      <th>2</th>\n",
       "      <td>NaN</td>\n",
       "      <td>Rasika Jayakodi</td>\n",
       "      <td>Ego system Vs. Eco system \\n\\nසාමාන්‍යයෙන් ලංක...</td>\n",
       "      <td>Positive</td>\n",
       "      <td>NaN</td>\n",
       "      <td>1095</td>\n",
       "    </tr>\n",
       "    <tr>\n",
       "      <th>3</th>\n",
       "      <td>NaN</td>\n",
       "      <td>Peshala Manoj</td>\n",
       "      <td>අද උදේ දැකපු සුන්දර දර්ශණයක්. නුගේගොඩ St.Johns...</td>\n",
       "      <td>Positive</td>\n",
       "      <td>NaN</td>\n",
       "      <td>298</td>\n",
       "    </tr>\n",
       "    <tr>\n",
       "      <th>4</th>\n",
       "      <td>NaN</td>\n",
       "      <td>Mahinda Deshapriya</td>\n",
       "      <td>Smoking is a bad habit \\nMenda , Danee🏏✌.\\nCri...</td>\n",
       "      <td>Positive</td>\n",
       "      <td>NaN</td>\n",
       "      <td>91</td>\n",
       "    </tr>\n",
       "  </tbody>\n",
       "</table>\n",
       "</div>"
      ],
      "text/plain": [
       "     Index          PublicFigure  \\\n",
       "0  184174P  Abisheka Wimalaweera   \n",
       "1      NaN       Roshan Fernando   \n",
       "2      NaN       Rasika Jayakodi   \n",
       "3      NaN         Peshala Manoj   \n",
       "4      NaN    Mahinda Deshapriya   \n",
       "\n",
       "                                           Statement    Impact Unnamed: 4  \\\n",
       "0  සාමාන්‍යයෙන් පෞද්ගලික චරිත ගැන ලියන්න හොද  නෑ....  Positive        NaN   \n",
       "1  මම නුවරඑළියේ ඉදන් කොළඹට ඇවිල්ලා ගායකයෙක් වෙන්න...  Positive        NaN   \n",
       "2  Ego system Vs. Eco system \\n\\nසාමාන්‍යයෙන් ලංක...  Positive        NaN   \n",
       "3  අද උදේ දැකපු සුන්දර දර්ශණයක්. නුගේගොඩ St.Johns...  Positive        NaN   \n",
       "4  Smoking is a bad habit \\nMenda , Danee🏏✌.\\nCri...  Positive        NaN   \n",
       "\n",
       "   Length of Statment  \n",
       "0                 479  \n",
       "1                 403  \n",
       "2                1095  \n",
       "3                 298  \n",
       "4                  91  "
      ]
     },
     "execution_count": 4,
     "metadata": {},
     "output_type": "execute_result"
    }
   ],
   "source": [
    "length = []\n",
    "for index, row in tweet_corpus.iterrows():\n",
    "    length.append(len(row['Statement']))\n",
    "    \n",
    "tweet_corpus['Length of Statment'] = length\n",
    "tweet_corpus.head()"
   ]
  },
  {
   "cell_type": "markdown",
   "id": "031cbf2d",
   "metadata": {},
   "source": [
    "The below is a description about the column \"Length of Statment\". It shows that there are 1119 rows of data. mean charactes per sentence is 219. There is a sentence with 11182 characters also."
   ]
  },
  {
   "cell_type": "code",
   "execution_count": 5,
   "id": "6bd95c99",
   "metadata": {},
   "outputs": [
    {
     "data": {
      "text/plain": [
       "count     1119.000000\n",
       "mean       219.149240\n",
       "std        420.385316\n",
       "min         16.000000\n",
       "25%         80.000000\n",
       "50%        137.000000\n",
       "75%        231.000000\n",
       "max      11182.000000\n",
       "Name: Length of Statment, dtype: float64"
      ]
     },
     "execution_count": 5,
     "metadata": {},
     "output_type": "execute_result"
    }
   ],
   "source": [
    "tweet_corpus['Length of Statment'].describe()"
   ]
  },
  {
   "cell_type": "markdown",
   "id": "1036660f",
   "metadata": {},
   "source": [
    "### Remove data which contains more than 1000 characters per sentence"
   ]
  },
  {
   "cell_type": "markdown",
   "id": "0f129337",
   "metadata": {},
   "source": [
    "The below drop all the rows of data with senetences which have more than 1000 characters in it as a preprocessing."
   ]
  },
  {
   "cell_type": "code",
   "execution_count": 6,
   "id": "ec08558d",
   "metadata": {},
   "outputs": [],
   "source": [
    "tweet_corpus = tweet_corpus.drop(tweet_corpus[tweet_corpus['Length of Statment'] > 1000].index)\n",
    "tweet_corpus.reset_index(drop=True, inplace=True)"
   ]
  },
  {
   "cell_type": "markdown",
   "id": "ca74eeee",
   "metadata": {},
   "source": [
    "After removing the lenghtier senetnces, when I use the describe() function again to visualize the characteristics of the \"Length of Statment\" column it shows that maximum characters per sentence is 980 now."
   ]
  },
  {
   "cell_type": "code",
   "execution_count": 7,
   "id": "2992ab60",
   "metadata": {},
   "outputs": [
    {
     "data": {
      "text/plain": [
       "count    1095.000000\n",
       "mean      180.049315\n",
       "std       154.735705\n",
       "min        16.000000\n",
       "25%        80.000000\n",
       "50%       132.000000\n",
       "75%       222.000000\n",
       "max       980.000000\n",
       "Name: Length of Statment, dtype: float64"
      ]
     },
     "execution_count": 7,
     "metadata": {},
     "output_type": "execute_result"
    }
   ],
   "source": [
    "tweet_corpus['Length of Statment'].describe()"
   ]
  },
  {
   "cell_type": "markdown",
   "id": "cdae835a",
   "metadata": {},
   "source": [
    "### Select 100 datas"
   ]
  },
  {
   "cell_type": "markdown",
   "id": "8c3cc866",
   "metadata": {},
   "source": [
    "From the twitter corpus I select only the first 100 data to proceed"
   ]
  },
  {
   "cell_type": "code",
   "execution_count": 8,
   "id": "038ec6e3",
   "metadata": {},
   "outputs": [],
   "source": [
    "tweet_corpus = tweet_corpus[0:100]"
   ]
  },
  {
   "cell_type": "markdown",
   "id": "d7ef4add",
   "metadata": {},
   "source": [
    "I check the number of Positives and negatives from the \"Impact\" column. And Approximately Positive counts and negative counts are equal."
   ]
  },
  {
   "cell_type": "code",
   "execution_count": 9,
   "id": "fb114da9",
   "metadata": {},
   "outputs": [
    {
     "data": {
      "text/plain": [
       "Positive    51\n",
       "Negative    49\n",
       "Name: Impact, dtype: int64"
      ]
     },
     "execution_count": 9,
     "metadata": {},
     "output_type": "execute_result"
    }
   ],
   "source": [
    "tweet_corpus[\"Impact\"].value_counts()"
   ]
  },
  {
   "cell_type": "markdown",
   "id": "97f621a7",
   "metadata": {},
   "source": [
    "Next I remove the data if the impact is not equal to \"Postive\" or \"Negative\" and select only the labeled data."
   ]
  },
  {
   "cell_type": "code",
   "execution_count": 10,
   "id": "3752dfbf",
   "metadata": {},
   "outputs": [],
   "source": [
    "tweet_corpus = tweet_corpus[(tweet_corpus['Impact'] == 'Positive') | (tweet_corpus['Impact'] == 'Negative')]"
   ]
  },
  {
   "cell_type": "markdown",
   "id": "eadab29a",
   "metadata": {},
   "source": [
    "### Visualize Impact"
   ]
  },
  {
   "cell_type": "markdown",
   "id": "6fdf19ff",
   "metadata": {},
   "source": [
    "Uisng the pie() function from matplotlib library I visulaize the impact of positive/negative using a pie chart. And the count of postives and the negatives has been shown as a percentage. "
   ]
  },
  {
   "cell_type": "code",
   "execution_count": 11,
   "id": "21991fae",
   "metadata": {
    "scrolled": true
   },
   "outputs": [
    {
     "data": {
      "image/png": "[encoded data removed]",
      "text/plain": [
       "<Figure size 500x500 with 1 Axes>"
      ]
     },
     "metadata": {},
     "output_type": "display_data"
    }
   ],
   "source": [
    "fig = plt.figure(figsize=(5, 5))\n",
    "\n",
    "labels = 'Positives', 'Negative'\n",
    "\n",
    "sizes = [len(tweet_corpus[(tweet_corpus['Impact']=='Positive')]), len(tweet_corpus[(tweet_corpus['Impact']=='Negative')])]\n",
    "\n",
    "plt.pie(sizes, labels=labels, autopct='%1.1f%%', shadow=True, startangle=90)\n",
    "\n",
    "plt.axis('equal')  \n",
    "\n",
    "plt.show()"
   ]
  },
  {
   "cell_type": "markdown",
   "id": "144fea29",
   "metadata": {},
   "source": [
    "### Change the Impact Positive to 1 and Negative to 0"
   ]
  },
  {
   "cell_type": "markdown",
   "id": "8192a543",
   "metadata": {},
   "source": [
    "The Impact positive has been replaced with 1 and negative has been replaced with 0. When I print the Impact column I can visualize that. But eventhough 1 and 0 are used that is in the data type-object"
   ]
  },
  {
   "cell_type": "code",
   "execution_count": 12,
   "id": "a868082f",
   "metadata": {},
   "outputs": [],
   "source": [
    "tweet_corpus.loc[(tweet_corpus['Impact'] == 'Positive', 'Impact')] = 1\n",
    "tweet_corpus.loc[(tweet_corpus['Impact'] == 'Negative', 'Impact')] = 0"
   ]
  },
  {
   "cell_type": "code",
   "execution_count": 13,
   "id": "95f3a6c4",
   "metadata": {},
   "outputs": [
    {
     "data": {
      "text/plain": [
       "0     1\n",
       "1     1\n",
       "2     1\n",
       "3     1\n",
       "4     0\n",
       "     ..\n",
       "95    1\n",
       "96    0\n",
       "97    0\n",
       "98    0\n",
       "99    0\n",
       "Name: Impact, Length: 100, dtype: object"
      ]
     },
     "execution_count": 13,
     "metadata": {},
     "output_type": "execute_result"
    }
   ],
   "source": [
    "tweet_corpus['Impact']"
   ]
  },
  {
   "cell_type": "markdown",
   "id": "c71453fa",
   "metadata": {},
   "source": [
    "Data type of the impact column has been converted to int from object"
   ]
  },
  {
   "cell_type": "code",
   "execution_count": 14,
   "id": "3b6b6cf1",
   "metadata": {},
   "outputs": [],
   "source": [
    "tweet_corpus['Impact'] = pd.Series(tweet_corpus['Impact'], dtype=\"int\")"
   ]
  },
  {
   "cell_type": "markdown",
   "id": "055cbf39",
   "metadata": {},
   "source": [
    "### Remove unwanted columns"
   ]
  },
  {
   "cell_type": "markdown",
   "id": "5a9fb843",
   "metadata": {},
   "source": [
    "Unwanted columns columns such as index number, public figure name and unnamed column are removed. Select only the wanted columns, statment and the impact"
   ]
  },
  {
   "cell_type": "code",
   "execution_count": 15,
   "id": "a1dd1fd1",
   "metadata": {},
   "outputs": [],
   "source": [
    "tweet_corpus = tweet_corpus[['Statement', 'Impact']]"
   ]
  },
  {
   "cell_type": "markdown",
   "id": "8e16f40f",
   "metadata": {},
   "source": [
    "### Remove the emoji"
   ]
  },
  {
   "cell_type": "markdown",
   "id": "52e4fbef",
   "metadata": {},
   "source": [
    "Using the compile() function from re library a regex has been used to remove the emojis from the tweets"
   ]
  },
  {
   "cell_type": "code",
   "execution_count": 16,
   "id": "8b86b2c4",
   "metadata": {},
   "outputs": [],
   "source": [
    "emoji_pattern = re.compile(\"[\"\n",
    "        u\"\\U0001F600-\\U0001F64F\" \n",
    "        u\"\\U0001F300-\\U0001F5FF\" \n",
    "        u\"\\U0001F680-\\U0001F6FF\"\n",
    "        u\"\\U0001F1E0-\\U0001F1FF\"\n",
    "        u\"\\U00002500-\\U00002BEF\"\n",
    "        u\"\\U00002702-\\U000027B0\"\n",
    "        u\"\\U00002702-\\U000027B0\"\n",
    "        u\"\\U000024C2-\\U0001F251\"\n",
    "        u\"\\U0001f926-\\U0001f937\"\n",
    "        u\"\\U00010000-\\U0010ffff\"\n",
    "        u\"\\u2640-\\u2642\" \n",
    "        u\"\\u2600-\\u2B55\"\n",
    "        u\"\\u200d\"\n",
    "        u\"\\u23cf\"\n",
    "        u\"\\u23e9\"\n",
    "        u\"\\u231a\"\n",
    "        u\"\\ufe0f\"\n",
    "        u\"\\u3030\"\n",
    "                      \"]+\", re.UNICODE)\n",
    "\n",
    "tweet_corpus['Statement'] = tweet_corpus['Statement'].apply(lambda x: emoji_pattern.sub(r'', x))"
   ]
  },
  {
   "cell_type": "markdown",
   "id": "dcccea53",
   "metadata": {},
   "source": [
    "Print the 1st 10 data to check there's no any emojis available in the data now."
   ]
  },
  {
   "cell_type": "code",
   "execution_count": 17,
   "id": "e525ea0e",
   "metadata": {},
   "outputs": [
    {
     "data": {
      "text/html": [
       "<div>\n",
       "<style scoped>\n",
       "    .dataframe tbody tr th:only-of-type {\n",
       "        vertical-align: middle;\n",
       "    }\n",
       "\n",
       "    .dataframe tbody tr th {\n",
       "        vertical-align: top;\n",
       "    }\n",
       "\n",
       "    .dataframe thead th {\n",
       "        text-align: right;\n",
       "    }\n",
       "</style>\n",
       "<table border=\"1\" class=\"dataframe\">\n",
       "  <thead>\n",
       "    <tr style=\"text-align: right;\">\n",
       "      <th></th>\n",
       "      <th>Statement</th>\n",
       "      <th>Impact</th>\n",
       "    </tr>\n",
       "  </thead>\n",
       "  <tbody>\n",
       "    <tr>\n",
       "      <th>0</th>\n",
       "      <td>සාමාන්යයෙන් පෞද්ගලික චරිත ගැන ලියන්න හොද  නෑ.ඒ...</td>\n",
       "      <td>1</td>\n",
       "    </tr>\n",
       "    <tr>\n",
       "      <th>1</th>\n",
       "      <td>මම නුවරඑළියේ ඉදන් කොළඹට ඇවිල්ලා ගායකයෙක් වෙන්න...</td>\n",
       "      <td>1</td>\n",
       "    </tr>\n",
       "    <tr>\n",
       "      <th>2</th>\n",
       "      <td>අද උදේ දැකපු සුන්දර දර්ශණයක්. නුගේගොඩ St.Johns...</td>\n",
       "      <td>1</td>\n",
       "    </tr>\n",
       "    <tr>\n",
       "      <th>3</th>\n",
       "      <td>Smoking is a bad habit \\nMenda , Danee.\\nCrick...</td>\n",
       "      <td>1</td>\n",
       "    </tr>\n",
       "    <tr>\n",
       "      <th>4</th>\n",
       "      <td>Safety Airbag නැති, Sensors නැති, Auto Break s...</td>\n",
       "      <td>0</td>\n",
       "    </tr>\n",
       "    <tr>\n",
       "      <th>5</th>\n",
       "      <td>ජීවිතේ අපිට එක එක ජාතියේ පුද්ගලයින් හමුවෙනවා. ...</td>\n",
       "      <td>0</td>\n",
       "    </tr>\n",
       "    <tr>\n",
       "      <th>6</th>\n",
       "      <td>දරුවො forward විය යුතුයි - මෙන්න දේශ පාලනයට සු...</td>\n",
       "      <td>0</td>\n",
       "    </tr>\n",
       "    <tr>\n",
       "      <th>7</th>\n",
       "      <td>හෙළPay for Business\\niOS App එක මේ වන විට Appl...</td>\n",
       "      <td>1</td>\n",
       "    </tr>\n",
       "    <tr>\n",
       "      <th>8</th>\n",
       "      <td>Shooting වලට නුවර ගියපු මගේ හිත ගිය තැනක්.. \\n...</td>\n",
       "      <td>1</td>\n",
       "    </tr>\n",
       "    <tr>\n",
       "      <th>9</th>\n",
       "      <td>මේ ලස්සන අහිංසක මුහුනු වලට හිනාවක් ගේන්න අපිට ...</td>\n",
       "      <td>1</td>\n",
       "    </tr>\n",
       "  </tbody>\n",
       "</table>\n",
       "</div>"
      ],
      "text/plain": [
       "                                           Statement  Impact\n",
       "0  සාමාන්යයෙන් පෞද්ගලික චරිත ගැන ලියන්න හොද  නෑ.ඒ...       1\n",
       "1  මම නුවරඑළියේ ඉදන් කොළඹට ඇවිල්ලා ගායකයෙක් වෙන්න...       1\n",
       "2  අද උදේ දැකපු සුන්දර දර්ශණයක්. නුගේගොඩ St.Johns...       1\n",
       "3  Smoking is a bad habit \\nMenda , Danee.\\nCrick...       1\n",
       "4  Safety Airbag නැති, Sensors නැති, Auto Break s...       0\n",
       "5  ජීවිතේ අපිට එක එක ජාතියේ පුද්ගලයින් හමුවෙනවා. ...       0\n",
       "6  දරුවො forward විය යුතුයි - මෙන්න දේශ පාලනයට සු...       0\n",
       "7  හෙළPay for Business\\niOS App එක මේ වන විට Appl...       1\n",
       "8  Shooting වලට නුවර ගියපු මගේ හිත ගිය තැනක්.. \\n...       1\n",
       "9  මේ ලස්සන අහිංසක මුහුනු වලට හිනාවක් ගේන්න අපිට ...       1"
      ]
     },
     "execution_count": 17,
     "metadata": {},
     "output_type": "execute_result"
    }
   ],
   "source": [
    "tweet_corpus.head(10)"
   ]
  },
  {
   "cell_type": "markdown",
   "id": "dc61d0a2",
   "metadata": {},
   "source": [
    "iloc() function from pandas is used to easily retrieve any particular value from a row or column by using index values. I used it to check a data element from the dataset"
   ]
  },
  {
   "cell_type": "code",
   "execution_count": 18,
   "id": "658452de",
   "metadata": {},
   "outputs": [
    {
     "data": {
      "text/plain": [
       "Statement    Shooting වලට නුවර ගියපු මගේ හිත ගිය තැනක්.. \\n...\n",
       "Impact                                                       1\n",
       "Name: 8, dtype: object"
      ]
     },
     "execution_count": 18,
     "metadata": {},
     "output_type": "execute_result"
    }
   ],
   "source": [
    "tweet_corpus.iloc[8]"
   ]
  },
  {
   "cell_type": "markdown",
   "id": "6a6f5530",
   "metadata": {},
   "source": [
    "### Translate tweets to English from Singlish"
   ]
  },
  {
   "cell_type": "markdown",
   "id": "8cab4886",
   "metadata": {},
   "source": [
    "Using the googletrans I translated the siglish sentences to complete english sentences"
   ]
  },
  {
   "cell_type": "code",
   "execution_count": 19,
   "id": "d64e08a2",
   "metadata": {},
   "outputs": [
    {
     "name": "stdout",
     "output_type": "stream",
     "text": [
      "Requirement already satisfied: googletrans in c:\\python38\\lib\\site-packages (3.1.0a0)\n",
      "Requirement already satisfied: httpx==0.13.3 in c:\\python38\\lib\\site-packages (from googletrans) (0.13.3)\n",
      "Requirement already satisfied: httpcore==0.9.* in c:\\python38\\lib\\site-packages (from httpx==0.13.3->googletrans) (0.9.1)\n",
      "Requirement already satisfied: hstspreload in c:\\python38\\lib\\site-packages (from httpx==0.13.3->googletrans) (2022.11.1)\n",
      "Requirement already satisfied: idna==2.* in c:\\python38\\lib\\site-packages (from httpx==0.13.3->googletrans) (2.10)\n",
      "Requirement already satisfied: rfc3986<2,>=1.3 in c:\\python38\\lib\\site-packages (from httpx==0.13.3->googletrans) (1.5.0)\n",
      "Requirement already satisfied: chardet==3.* in c:\\python38\\lib\\site-packages (from httpx==0.13.3->googletrans) (3.0.4)\n",
      "Requirement already satisfied: sniffio in c:\\python38\\lib\\site-packages (from httpx==0.13.3->googletrans) (1.3.0)\n",
      "Requirement already satisfied: certifi in c:\\users\\hp\\appdata\\roaming\\python\\python38\\site-packages (from httpx==0.13.3->googletrans) (2022.9.24)\n",
      "Requirement already satisfied: h11<0.10,>=0.8 in c:\\python38\\lib\\site-packages (from httpcore==0.9.*->httpx==0.13.3->googletrans) (0.9.0)\n",
      "Requirement already satisfied: h2==3.* in c:\\python38\\lib\\site-packages (from httpcore==0.9.*->httpx==0.13.3->googletrans) (3.2.0)\n",
      "Requirement already satisfied: hyperframe<6,>=5.2.0 in c:\\python38\\lib\\site-packages (from h2==3.*->httpcore==0.9.*->httpx==0.13.3->googletrans) (5.2.0)\n",
      "Requirement already satisfied: hpack<4,>=3.0 in c:\\python38\\lib\\site-packages (from h2==3.*->httpcore==0.9.*->httpx==0.13.3->googletrans) (3.0.0)\n"
     ]
    },
    {
     "name": "stderr",
     "output_type": "stream",
     "text": [
      "\n",
      "[notice] A new release of pip available: 22.2.2 -> 22.3\n",
      "[notice] To update, run: python.exe -m pip install --upgrade pip\n"
     ]
    }
   ],
   "source": [
    "!pip install googletrans"
   ]
  },
  {
   "cell_type": "markdown",
   "id": "d716f63e",
   "metadata": {},
   "source": [
    "Install tqdm  which is a library in Python which is used for creating Progress Meters or Progress Bars"
   ]
  },
  {
   "cell_type": "code",
   "execution_count": 20,
   "id": "803c1711",
   "metadata": {},
   "outputs": [
    {
     "name": "stdout",
     "output_type": "stream",
     "text": [
      "Requirement already satisfied: tqdm in c:\\users\\hp\\appdata\\roaming\\python\\python38\\site-packages (4.64.1)\n",
      "Requirement already satisfied: colorama in c:\\python38\\lib\\site-packages (from tqdm) (0.4.5)\n"
     ]
    },
    {
     "name": "stderr",
     "output_type": "stream",
     "text": [
      "\n",
      "[notice] A new release of pip available: 22.2.2 -> 22.3\n",
      "[notice] To update, run: python.exe -m pip install --upgrade pip\n"
     ]
    }
   ],
   "source": [
    "!pip install tqdm"
   ]
  },
  {
   "cell_type": "markdown",
   "id": "55c6e697",
   "metadata": {},
   "source": [
    "Checking whether sinhala to english is available in the google translator"
   ]
  },
  {
   "cell_type": "code",
   "execution_count": 21,
   "id": "4777fbea",
   "metadata": {},
   "outputs": [
    {
     "data": {
      "text/html": [
       "<div>\n",
       "<style scoped>\n",
       "    .dataframe tbody tr th:only-of-type {\n",
       "        vertical-align: middle;\n",
       "    }\n",
       "\n",
       "    .dataframe tbody tr th {\n",
       "        vertical-align: top;\n",
       "    }\n",
       "\n",
       "    .dataframe thead th {\n",
       "        text-align: right;\n",
       "    }\n",
       "</style>\n",
       "<table border=\"1\" class=\"dataframe\">\n",
       "  <thead>\n",
       "    <tr style=\"text-align: right;\">\n",
       "      <th></th>\n",
       "      <th>Language</th>\n",
       "    </tr>\n",
       "  </thead>\n",
       "  <tbody>\n",
       "    <tr>\n",
       "      <th>en</th>\n",
       "      <td>english</td>\n",
       "    </tr>\n",
       "    <tr>\n",
       "      <th>si</th>\n",
       "      <td>sinhala</td>\n",
       "    </tr>\n",
       "  </tbody>\n",
       "</table>\n",
       "</div>"
      ],
      "text/plain": [
       "   Language\n",
       "en  english\n",
       "si  sinhala"
      ]
     },
     "execution_count": 21,
     "metadata": {},
     "output_type": "execute_result"
    }
   ],
   "source": [
    "import googletrans\n",
    "from googletrans import Translator\n",
    "translator = Translator()\n",
    "lang_df = pd.DataFrame.from_dict(googletrans.LANGUAGES,  orient='index', columns=['Language'])\n",
    "lang_df[lang_df.Language.isin(['english', 'sinhala'])]"
   ]
  },
  {
   "cell_type": "markdown",
   "id": "3ac2b963",
   "metadata": {},
   "source": [
    "The below code is to retrieving the [0] index senetnce from the dataset and translating it to english and view whether it is translated correctly."
   ]
  },
  {
   "cell_type": "code",
   "execution_count": 22,
   "id": "d9c552e5",
   "metadata": {},
   "outputs": [
    {
     "data": {
      "text/plain": [
       "\"Generally, it is not good to write about personal characters because we cannot predict what will happen to those people in the future. .I said that it doesn't matter if it's like Kohli, because if that happens, the fans will say get well soon.\\n\\nThis is the TEAM of Sri Lanka..we want Sri Lanka to win.\\nEven from Sri Lanka, we have a cold today...\\n\\nCricketers are people!\\n\\nMay the lions bring the cup..\""
      ]
     },
     "execution_count": 22,
     "metadata": {},
     "output_type": "execute_result"
    }
   ],
   "source": [
    "text = tweet_corpus.iloc[0]['Statement']\n",
    "translator.translate(text, dest='en', src='auto').text"
   ]
  },
  {
   "cell_type": "markdown",
   "id": "d444f9af",
   "metadata": {},
   "source": [
    "All the sentences will be translated to english using the below code. And tqdm will show a progress bar while the singlish is being converted to english. I can easily figure out how much of the senetences are being translated while it is translating"
   ]
  },
  {
   "cell_type": "code",
   "execution_count": 23,
   "id": "e9609a9a",
   "metadata": {},
   "outputs": [
    {
     "name": "stderr",
     "output_type": "stream",
     "text": [
      "100it [00:26,  3.74it/s]\n"
     ]
    }
   ],
   "source": [
    "from tqdm import tqdm\n",
    "\n",
    "translated_statement = []\n",
    "for index, row in tqdm(tweet_corpus.iterrows()):\n",
    "    translated_text = translator.translate(row['Statement'], dest='en', src='auto').text\n",
    "    translated_statement.append(translated_text)\n",
    "tweet_corpus['Statement'] = translated_statement"
   ]
  },
  {
   "cell_type": "markdown",
   "id": "9be4da45",
   "metadata": {},
   "source": [
    "1st 10 data after the complete translation to english are listed below"
   ]
  },
  {
   "cell_type": "code",
   "execution_count": 24,
   "id": "bc9339f1",
   "metadata": {},
   "outputs": [
    {
     "data": {
      "text/html": [
       "<div>\n",
       "<style scoped>\n",
       "    .dataframe tbody tr th:only-of-type {\n",
       "        vertical-align: middle;\n",
       "    }\n",
       "\n",
       "    .dataframe tbody tr th {\n",
       "        vertical-align: top;\n",
       "    }\n",
       "\n",
       "    .dataframe thead th {\n",
       "        text-align: right;\n",
       "    }\n",
       "</style>\n",
       "<table border=\"1\" class=\"dataframe\">\n",
       "  <thead>\n",
       "    <tr style=\"text-align: right;\">\n",
       "      <th></th>\n",
       "      <th>Statement</th>\n",
       "      <th>Impact</th>\n",
       "    </tr>\n",
       "  </thead>\n",
       "  <tbody>\n",
       "    <tr>\n",
       "      <th>0</th>\n",
       "      <td>Generally, it is not good to write about perso...</td>\n",
       "      <td>1</td>\n",
       "    </tr>\n",
       "    <tr>\n",
       "      <th>1</th>\n",
       "      <td>I came to Colombo from Nuwara Eliya and am try...</td>\n",
       "      <td>1</td>\n",
       "    </tr>\n",
       "    <tr>\n",
       "      <th>2</th>\n",
       "      <td>A beautiful sight seen this morning. At St.Joh...</td>\n",
       "      <td>1</td>\n",
       "    </tr>\n",
       "    <tr>\n",
       "      <th>3</th>\n",
       "      <td>Smoking is a bad habit\\nMenda, Danee.\\n150+ is...</td>\n",
       "      <td>1</td>\n",
       "    </tr>\n",
       "    <tr>\n",
       "      <th>4</th>\n",
       "      <td>If he could buy a JEEP of the kind that he dre...</td>\n",
       "      <td>0</td>\n",
       "    </tr>\n",
       "    <tr>\n",
       "      <th>5</th>\n",
       "      <td>In life we ​​meet people of different races. S...</td>\n",
       "      <td>0</td>\n",
       "    </tr>\n",
       "    <tr>\n",
       "      <th>6</th>\n",
       "      <td>Children must be forward - here is an uncut di...</td>\n",
       "      <td>0</td>\n",
       "    </tr>\n",
       "    <tr>\n",
       "      <th>7</th>\n",
       "      <td>HelaPay for Business\\nThe iOS App has been sub...</td>\n",
       "      <td>1</td>\n",
       "    </tr>\n",
       "    <tr>\n",
       "      <th>8</th>\n",
       "      <td>A place where I went to Kandy for shooting..\\n...</td>\n",
       "      <td>1</td>\n",
       "    </tr>\n",
       "    <tr>\n",
       "      <th>9</th>\n",
       "      <td>Last weekend we were able to bring a smile to ...</td>\n",
       "      <td>1</td>\n",
       "    </tr>\n",
       "  </tbody>\n",
       "</table>\n",
       "</div>"
      ],
      "text/plain": [
       "                                           Statement  Impact\n",
       "0  Generally, it is not good to write about perso...       1\n",
       "1  I came to Colombo from Nuwara Eliya and am try...       1\n",
       "2  A beautiful sight seen this morning. At St.Joh...       1\n",
       "3  Smoking is a bad habit\\nMenda, Danee.\\n150+ is...       1\n",
       "4  If he could buy a JEEP of the kind that he dre...       0\n",
       "5  In life we ​​meet people of different races. S...       0\n",
       "6  Children must be forward - here is an uncut di...       0\n",
       "7  HelaPay for Business\\nThe iOS App has been sub...       1\n",
       "8  A place where I went to Kandy for shooting..\\n...       1\n",
       "9  Last weekend we were able to bring a smile to ...       1"
      ]
     },
     "execution_count": 24,
     "metadata": {},
     "output_type": "execute_result"
    }
   ],
   "source": [
    "tweet_corpus.head(10)"
   ]
  },
  {
   "cell_type": "markdown",
   "id": "4c558d38",
   "metadata": {},
   "source": [
    "### Stripe, convert to lower case and remove hashtags from tweets"
   ]
  },
  {
   "cell_type": "markdown",
   "id": "3af3047a",
   "metadata": {},
   "source": [
    "Strip() function from pandas will remove the leading and trailing whitespaces, characters, and symbols. lower() function will convert the complete text to lower case. And the regex written with the help of re library will remove the hastags from tweets."
   ]
  },
  {
   "cell_type": "code",
   "execution_count": 25,
   "id": "60831a15",
   "metadata": {},
   "outputs": [],
   "source": [
    "tweet_corpus['Statement'] = tweet_corpus['Statement'].map(lambda x: x.strip())\n",
    "\n",
    "tweet_corpus['Statement'] = tweet_corpus['Statement'].apply(lambda x: x.lower())\n",
    "\n",
    "characters_to_remove = re.compile('[.,\\@#$$%|()\\+\\\\*^!?]')\n",
    "tweet_corpus['Statement'] = tweet_corpus['Statement'].apply(lambda x: characters_to_remove.sub('', x))"
   ]
  },
  {
   "cell_type": "markdown",
   "id": "85becfa4",
   "metadata": {},
   "source": [
    "Visualizing the 1st 5 data after doing the above changes"
   ]
  },
  {
   "cell_type": "code",
   "execution_count": 26,
   "id": "0b6381c7",
   "metadata": {},
   "outputs": [
    {
     "data": {
      "text/html": [
       "<div>\n",
       "<style scoped>\n",
       "    .dataframe tbody tr th:only-of-type {\n",
       "        vertical-align: middle;\n",
       "    }\n",
       "\n",
       "    .dataframe tbody tr th {\n",
       "        vertical-align: top;\n",
       "    }\n",
       "\n",
       "    .dataframe thead th {\n",
       "        text-align: right;\n",
       "    }\n",
       "</style>\n",
       "<table border=\"1\" class=\"dataframe\">\n",
       "  <thead>\n",
       "    <tr style=\"text-align: right;\">\n",
       "      <th></th>\n",
       "      <th>Statement</th>\n",
       "      <th>Impact</th>\n",
       "    </tr>\n",
       "  </thead>\n",
       "  <tbody>\n",
       "    <tr>\n",
       "      <th>0</th>\n",
       "      <td>generally it is not good to write about person...</td>\n",
       "      <td>1</td>\n",
       "    </tr>\n",
       "    <tr>\n",
       "      <th>1</th>\n",
       "      <td>i came to colombo from nuwara eliya and am try...</td>\n",
       "      <td>1</td>\n",
       "    </tr>\n",
       "    <tr>\n",
       "      <th>2</th>\n",
       "      <td>a beautiful sight seen this morning at stjohns...</td>\n",
       "      <td>1</td>\n",
       "    </tr>\n",
       "    <tr>\n",
       "      <th>3</th>\n",
       "      <td>smoking is a bad habit\\nmenda danee\\n150 is en...</td>\n",
       "      <td>1</td>\n",
       "    </tr>\n",
       "    <tr>\n",
       "      <th>4</th>\n",
       "      <td>if he could buy a jeep of the kind that he dre...</td>\n",
       "      <td>0</td>\n",
       "    </tr>\n",
       "  </tbody>\n",
       "</table>\n",
       "</div>"
      ],
      "text/plain": [
       "                                           Statement  Impact\n",
       "0  generally it is not good to write about person...       1\n",
       "1  i came to colombo from nuwara eliya and am try...       1\n",
       "2  a beautiful sight seen this morning at stjohns...       1\n",
       "3  smoking is a bad habit\\nmenda danee\\n150 is en...       1\n",
       "4  if he could buy a jeep of the kind that he dre...       0"
      ]
     },
     "execution_count": 26,
     "metadata": {},
     "output_type": "execute_result"
    }
   ],
   "source": [
    "tweet_corpus.head()"
   ]
  },
  {
   "cell_type": "markdown",
   "id": "60fa7fc3",
   "metadata": {},
   "source": [
    "### Remove hyperlink, punctuations and user names"
   ]
  },
  {
   "cell_type": "markdown",
   "id": "913203c4",
   "metadata": {},
   "source": [
    "The following regex will remove the hyperlinks, punctuations and the user names. tqdm will show the progress while this is happening"
   ]
  },
  {
   "cell_type": "code",
   "execution_count": 27,
   "id": "63417a7e",
   "metadata": {},
   "outputs": [
    {
     "name": "stderr",
     "output_type": "stream",
     "text": [
      "100it [00:00, 1785.99it/s]\n"
     ]
    }
   ],
   "source": [
    "statement = []\n",
    "for index, row in tqdm(tweet_corpus.iterrows()):\n",
    "    statement.append(' '.join(re.sub(\"(@[A-Za-z0-9]+)|([^0-9A-Za-z \\t])|(\\w+:\\/\\/\\S+)\",\" \",row['Statement']).split()))\n",
    "tweet_corpus['Statement'] = statement"
   ]
  },
  {
   "cell_type": "markdown",
   "id": "fab90b0a",
   "metadata": {},
   "source": [
    "### Remove stop words from the tweets"
   ]
  },
  {
   "cell_type": "markdown",
   "id": "4cf59545",
   "metadata": {},
   "source": [
    "Download the stopwords from the nltk"
   ]
  },
  {
   "cell_type": "code",
   "execution_count": 28,
   "id": "2b77ef06",
   "metadata": {},
   "outputs": [
    {
     "name": "stderr",
     "output_type": "stream",
     "text": [
      "[nltk_data] Downloading package stopwords to\n",
      "[nltk_data]     C:\\Users\\HP\\AppData\\Roaming\\nltk_data...\n",
      "[nltk_data]   Package stopwords is already up-to-date!\n"
     ]
    },
    {
     "data": {
      "text/plain": [
       "True"
      ]
     },
     "execution_count": 28,
     "metadata": {},
     "output_type": "execute_result"
    }
   ],
   "source": [
    "nltk.download('stopwords')"
   ]
  },
  {
   "cell_type": "markdown",
   "id": "20d9c1c3",
   "metadata": {},
   "source": [
    "Default english dtopwords from the nltk are listed below"
   ]
  },
  {
   "cell_type": "code",
   "execution_count": 29,
   "id": "a8064214",
   "metadata": {},
   "outputs": [
    {
     "data": {
      "text/plain": [
       "['i',\n",
       " 'me',\n",
       " 'my',\n",
       " 'myself',\n",
       " 'we',\n",
       " 'our',\n",
       " 'ours',\n",
       " 'ourselves',\n",
       " 'you',\n",
       " \"you're\",\n",
       " \"you've\",\n",
       " \"you'll\",\n",
       " \"you'd\",\n",
       " 'your',\n",
       " 'yours',\n",
       " 'yourself',\n",
       " 'yourselves',\n",
       " 'he',\n",
       " 'him',\n",
       " 'his',\n",
       " 'himself',\n",
       " 'she',\n",
       " \"she's\",\n",
       " 'her',\n",
       " 'hers',\n",
       " 'herself',\n",
       " 'it',\n",
       " \"it's\",\n",
       " 'its',\n",
       " 'itself',\n",
       " 'they',\n",
       " 'them',\n",
       " 'their',\n",
       " 'theirs',\n",
       " 'themselves',\n",
       " 'what',\n",
       " 'which',\n",
       " 'who',\n",
       " 'whom',\n",
       " 'this',\n",
       " 'that',\n",
       " \"that'll\",\n",
       " 'these',\n",
       " 'those',\n",
       " 'am',\n",
       " 'is',\n",
       " 'are',\n",
       " 'was',\n",
       " 'were',\n",
       " 'be',\n",
       " 'been',\n",
       " 'being',\n",
       " 'have',\n",
       " 'has',\n",
       " 'had',\n",
       " 'having',\n",
       " 'do',\n",
       " 'does',\n",
       " 'did',\n",
       " 'doing',\n",
       " 'a',\n",
       " 'an',\n",
       " 'the',\n",
       " 'and',\n",
       " 'but',\n",
       " 'if',\n",
       " 'or',\n",
       " 'because',\n",
       " 'as',\n",
       " 'until',\n",
       " 'while',\n",
       " 'of',\n",
       " 'at',\n",
       " 'by',\n",
       " 'for',\n",
       " 'with',\n",
       " 'about',\n",
       " 'against',\n",
       " 'between',\n",
       " 'into',\n",
       " 'through',\n",
       " 'during',\n",
       " 'before',\n",
       " 'after',\n",
       " 'above',\n",
       " 'below',\n",
       " 'to',\n",
       " 'from',\n",
       " 'up',\n",
       " 'down',\n",
       " 'in',\n",
       " 'out',\n",
       " 'on',\n",
       " 'off',\n",
       " 'over',\n",
       " 'under',\n",
       " 'again',\n",
       " 'further',\n",
       " 'then',\n",
       " 'once',\n",
       " 'here',\n",
       " 'there',\n",
       " 'when',\n",
       " 'where',\n",
       " 'why',\n",
       " 'how',\n",
       " 'all',\n",
       " 'any',\n",
       " 'both',\n",
       " 'each',\n",
       " 'few',\n",
       " 'more',\n",
       " 'most',\n",
       " 'other',\n",
       " 'some',\n",
       " 'such',\n",
       " 'no',\n",
       " 'nor',\n",
       " 'not',\n",
       " 'only',\n",
       " 'own',\n",
       " 'same',\n",
       " 'so',\n",
       " 'than',\n",
       " 'too',\n",
       " 'very',\n",
       " 's',\n",
       " 't',\n",
       " 'can',\n",
       " 'will',\n",
       " 'just',\n",
       " 'don',\n",
       " \"don't\",\n",
       " 'should',\n",
       " \"should've\",\n",
       " 'now',\n",
       " 'd',\n",
       " 'll',\n",
       " 'm',\n",
       " 'o',\n",
       " 're',\n",
       " 've',\n",
       " 'y',\n",
       " 'ain',\n",
       " 'aren',\n",
       " \"aren't\",\n",
       " 'couldn',\n",
       " \"couldn't\",\n",
       " 'didn',\n",
       " \"didn't\",\n",
       " 'doesn',\n",
       " \"doesn't\",\n",
       " 'hadn',\n",
       " \"hadn't\",\n",
       " 'hasn',\n",
       " \"hasn't\",\n",
       " 'haven',\n",
       " \"haven't\",\n",
       " 'isn',\n",
       " \"isn't\",\n",
       " 'ma',\n",
       " 'mightn',\n",
       " \"mightn't\",\n",
       " 'mustn',\n",
       " \"mustn't\",\n",
       " 'needn',\n",
       " \"needn't\",\n",
       " 'shan',\n",
       " \"shan't\",\n",
       " 'shouldn',\n",
       " \"shouldn't\",\n",
       " 'wasn',\n",
       " \"wasn't\",\n",
       " 'weren',\n",
       " \"weren't\",\n",
       " 'won',\n",
       " \"won't\",\n",
       " 'wouldn',\n",
       " \"wouldn't\"]"
      ]
     },
     "execution_count": 29,
     "metadata": {},
     "output_type": "execute_result"
    }
   ],
   "source": [
    "from nltk.corpus import stopwords  \n",
    "stopwords_english = stopwords.words('english')\n",
    "stopwords_english"
   ]
  },
  {
   "cell_type": "markdown",
   "id": "fe546ea1",
   "metadata": {},
   "source": [
    "Using the default set of stopwords from nltk, remove those stopwords which are so common and they are basically ignored by typical tokenizers from the dataset"
   ]
  },
  {
   "cell_type": "code",
   "execution_count": 30,
   "id": "e66ad78b",
   "metadata": {},
   "outputs": [
    {
     "data": {
      "text/plain": [
       "['generally good write personal characters cannot predict happen people future said matter like kohli happens fans say get well soon team sri lankawe want sri lanka win even sri lanka cold today cricketers people may lions bring cup',\n",
       " 'came colombo nuwara eliya trying become singer brother roshan fernando legend outdoor group music many years experience music industry flashback went studio first time practice loving welcome meeting group brothers also joy privilege life beautiful people let share stagehug',\n",
       " 'beautiful sight seen morning stjohns college nugegoda remembered time studying bhathkande university india teachers students staff enter university hitting ground saw children stjohns nugegoda morning good luck students',\n",
       " 'smoking bad habit menda danee 150 enough cricket lovely cricket br',\n",
       " 'could buy jeep kind dreamed instead cab bought first vehicle 1996 safety airbag sensors auto break system led headlights viper even work properly today elephant fine accident shooting anuradhapura 30 liters fuel given sinhabahu production team political connections production team would able get permission bring dad colombo even seven eight hours accident ones crashed us injured difficult moment questioning becomes clear whoever love real mind word deed make mind alone good stay quiet without hurting feelings',\n",
       " 'life meet people different races give us love prelude make future strong go life pain people look others put cage raise behind law book persevere come day meet someone love bottom heart make whole world beautiful place relax close eyes tired toxic relationships matter far push someone drawn lucky already met person first love person one day late meet take care love day maybe someone tired looking love like maybe came make whole world beautiful look eyes hold hand tightly feel beautiful life',\n",
       " 'children must forward uncut diamond suitable governance child person sit aside listen others say others want nobody tea society saranga disasekara noguti video shown city child save yatra entire hall silent seconds suffocated small voice broke silence shouted teach us love everyone took breath son reviewed essence video words surprising five year old child spoke without hesitation cute child without voice fearless creative fearlessempower children converse platform world children 21st century cannot erased scaring hiding scolding beating touching shoulder unsafe bad touch meet forward child give chance 225',\n",
       " 'helapay business ios app submitted apple approval let know soon approved',\n",
       " 'place went kandy shooting went shooting suddenly needed extra clothes best place buy clothes city want see beauty city mbrk casual range active range ones interested go kandy nolimit check nolimit nolimitkandy fashionsrilanka nolimit sri lanka',\n",
       " 'last weekend able bring smile beautiful innocent faces grateful remind able provide necessary school equipment 96 children studying mapa hangu mandaramnuwara primary school help help schools foundation sri lanka donations friends thank everyone came help innocent little children difficult time everyone',\n",
       " 'best wishes players countries including sri lanka cricket team participating asia cup cricket tournament starting tomorrow asiacup',\n",
       " 'without obsession life nothing rosi mam said going everything stop event unfortunately anything something people unless born paster tell even innocent children used protest highway also among us tyrants took maximum advantage devotion got block money pastors country hell even festival held trying forget give international festival experience need guys ever reduce number people come remember something sons devils tamed buddhism',\n",
       " 'pilots struggle stop hunt person arrested basis live video videos told lot robbery murder rajapaksa wickramasinghe first arrested unconditionally stand pathum kerner fighter stood social justice even though conflicting ideologies justice done stop suppressing struggle illegal arrests releasepathumkerner',\n",
       " 'standing proudly around dad country waiting heal wish well every monster spreads bad news increase fb reach nothing heal sins recovering',\n",
       " 'launching songs hemal ranasinghe latest movie second show created jointly india sri lanka dear silver screen super star hemal fresh hope take sri lankan cinema talent world movie second show hope overcome challenges amidst struggles country cinema long term struggle moment crisis may movie second show victorious journey world cinema watch film sinhala tamil languages junedirector gnanam hemal ranasinghe pallavi subhash best hemal sachindra ranasinghe sri mal malkz wije aseka wijewardena photographer hasitha n nilu',\n",
       " 'pay vs card payments digital payment systems applepay alipay come forward replacing cards mastercard amex among world payment methods introduced helapay sri lanka make change sri lanka believed possible came together protect country foreign exchange world make change reason cannot needed everyone embrace change believing done helapay continue provide simple secure innovative digital payment experience like applepay alipay pay next change coming soon',\n",
       " 'thought making cover song kesaria movie brahmastra music arrangement dimraaw video shithila samadhi work done little cover rendition kesariya together dimraaw music arrangement shithila samadhi beautiful video skills aliaabhatt ipritamofficial ayan mukerji',\n",
       " 'first job friend worked life today given hope winning life since fell zero life even though successful entrepreneur still old humble simple friend know nadun ready share tell easily earn dollars job subscribe youtube channel anything also left nadun fb link ask',\n",
       " 'win country together together one let rally around lions pride',\n",
       " 'lol good journalist came talk piumi hansamali birthday party makeup pouch something happened guy got fight finally became biggest comedian sri lanka comment really sad see thought matter like pau mouth become journalist would even give soul money came read newspaper instead reading fight piumi hansamali something happened today one thing hard work pays come help people suffering loss go shop work chamuditha samarawickrama grateful go home work',\n",
       " 'threatening call rosy senanayake stop hellfire music festival hello sri lanka hellfire music festival created controversial conversation whole sri lanka reason name used story devil worship satan worship first even count expect call came say case longer joke none colombo mayor rosy senanayake really surprised hear opinion international music festival trying bringing top dj artistla world become satanic faith although theme halloween familiar sri lanka strange countries world one thing theme emf devil devil problem exist devil',\n",
       " 'gota go home people send dollars country go home survive another two years another election need solution keyboard heroes watch full video judge',\n",
       " 'naming shaming politicians deviant vip behavior social media resisting street superficial steps good start',\n",
       " 'imf crocodile tears environment group agitators even though prepared negotiations imf representatives put blame agitators getting imf want blocked gates last night nothing stayed morning blame agitators getting imf want nande ranil fail anyway contingency plan kind discussion',\n",
       " 'challenge dasun shanaka bhanuka rajapaksa chamika karunaratne beat want guys beat hit many sixes t20 world cup okay hit six lose bat',\n",
       " 'hobby helps better mental health amidst work stress go fish kept company hobby hobby helps better mental health amidst work pressure raising fish helped keep mental health high level hobby spend time',\n",
       " 'thank much everyone loves subscribe youtube channel see beautiful things link',\n",
       " 'tried write article emphasize real situation news spreading rapidly social media days currently many word mouth news spreading social media umara sinhawansa family infected covid 19 real situation got covid 19 disease quarantined 21 days situation improved would also like inform one family contracted covid 19 staying safe healthy time whole world facing terrible situation responsibility avoid false propaganda fulfill duty society today may tomorrow may therefore let live carefully good health habits help lot save life well someone else stop spreading false rumors love god stay safe covid joke',\n",
       " 'duet sing difficult part song hadakam sharewin prizes wants sing along new song haadakam challenge share version adlib win prizes',\n",
       " 'suddenly put 50 lakhs account without knowledge spend take bait caught financial fraud diaspora trap struggle may know cima qualified accountant someone bend money personal benefits except things gained struggle hands 100 able remain indifferent face disgraceful actions mud campaigns taken far suppress us clean complaint already sent sampath bank five million suddenly fell account today hope take legal action tomorrow morning',\n",
       " 'nothing happens inside parliament work within law country property damage incidents take place parliament cannot dealt regular laws country cabinet spokesperson minister bandula gunawardena said today',\n",
       " 'recently statement make fake account circulated fact crescendo sri lanka investigated accuracy technical investigation conducted confirmed made statement sri lanka lacked system confirm accuracy information circulating social media',\n",
       " 'superstar sinhala cinema released tomorrow ranjan ramanayake brother problem go catch thief suffering inside',\n",
       " 'everyone knows ceylon tea suffered like know sorrow',\n",
       " 'watch video see worthy surprise gift given dunit',\n",
       " 'advertising agency ready promote brand way sets trend make brand hit social media platforms',\n",
       " 'young entrepreneur sold tickets 48 hours online system',\n",
       " 'share pile boy dead music video',\n",
       " 'thank 2000 newly joined youtube premium members',\n",
       " 'bro please share message facebook whatsapp groups village city tell friends provinces post toodon moveat time staying homedon let month hard work go waste',\n",
       " 'hmmm school front kollupitiya temple gaha mandir grew methodist school slum sad geographical knowledge brother posted post',\n",
       " 'hide post make mud campaign come talk face face bro',\n",
       " 'gradual demise sri lanka entrepreneurial culture one biggest tragedies befallen country today time place occupied group smugglers manipulators',\n",
       " 'seen insulting posts comments shared social media days',\n",
       " 'ready bring asia cup sri lanka usher spring cricket',\n",
       " 'strong encourage lions verge victory asian cup add greeting visiting link dlglk apekollo',\n",
       " 'latest song released 21st trailer',\n",
       " 'would like thank russian authorities including russian president restarting flights sri lanka russia 3 months',\n",
       " 'fans always strength cricket journey among precious fan father',\n",
       " 'country stolen leaders businessbut people country rise violence',\n",
       " 'country cannot built country slaves vasi tribes patta islands',\n",
       " 'person arrested basis live video videos told lot robbery murder rajapaksa wickramasinghe first arrested',\n",
       " 'fall scam live show report much possible',\n",
       " 'response noleftism campaign',\n",
       " 'today christmas event held maharagama asishta hospital organized heal broken heart naduni chanchala sanju group members thank inviting event',\n",
       " 'parents nothing fear safety children tik tok let protect supporting creativity',\n",
       " 'last week platinum cake exhibition held one galle face wonderful experience meet chat many talented cake makers colonnade area indeed program another example women entrepreneurship empowerment strength entrepreneur move forward despite challenges heartfelt thanks miracles cake inviting special occasion',\n",
       " 'first award best upcoming actress year 2019 thanks lot raigam telee awards thank much sunil costa sir changing acting style showing new path acting giving identity acting career also producers including mr danushka karunathilaka supported us finish play white pulling black walk middle badaka white pulling black walking staff white pulling black walking white pulling black walking white pulling black tirelessly raised voices posted internet day night also thank walking audience special thanks staff top chair national television',\n",
       " 'yupun priyadarshana abeykoon go world best tonight wanda diamond league final zurich 12 19am sl time wishing best great race yupun boys run',\n",
       " 'group people use photo appear various names phone number received message saying leaving please let know know also messaged hasan pannila blocked changed name sent messages someone else expect disfigured lives sorry inconvenience',\n",
       " 'latest campaign inflate ranil political appointments concept socialized several pages profiles find pages posts similar one sold 5000 send report change social opinion money ask curse people took money degrees town planning sri lanka matter get degree care suitability unsuitability one hand done kind degree whoever thief matter country problem falsely marketing qualifications campaigns knowing political appointments',\n",
       " 'taking third injection commenting gota go home',\n",
       " 'happy yesterday us sri lankans took streets aim everyone working hard really change country want came use social media much possible inform people things artists took photos right post anything social media like really proud crowd yesterday addition things everyone like throwing stones others change purpose country change told anything stay focused people see posts stories inconvenienced sorry look anymore standing country best',\n",
       " 'really appreciate girl effort hold board saying things like please visit srilanka person like living country think come worship like suvar thousand reasons tourists go country person goes country travels country fun country desire come looking reviews posted visited therefore create atmosphere environment makes tourists want come bring country point visitor comments nice country visit gives review think stupid hold board shout like make even person coming think twice big difference devotees commit sins rest temples temples carry offerings go heaven pleasure vip tourists',\n",
       " 'way go guys deans must sent home vice chancellors',\n",
       " 'italian family visa since 2009 american working visa since 2014 want go go going country country born die give trouble going',\n",
       " 'old tricks expired 2022 fcuknig wrong generation gohomeranil2022',\n",
       " 'still understand graduate murutthettuve think watch night news see convocation photo',\n",
       " 'style want tell world choose mosaic style matches style',\n",
       " 'tremendous strength successful journey biggest strength behind success',\n",
       " 'happy first birthday saranya gem always wish beautiful cute smile rest life world different like mom dad strange world little one needs strength face every obstacle straight head love much',\n",
       " 'cricketers also people generally good write personal characters cannot predict happen people future said matter like kohli happens fans say get well soon team sri lankawe want sri lanka win even sri lanka cold today cricketers people may lions bring cup abhi',\n",
       " '18 proverbs day prince wales college media competition awards back podium kavindu confession revenge day many things happened judging competition mrs shamali livera changed kavindu life thank lolitha nipun sandun invitation mediaday sadbhashana18 prince wales cambrians cmbu backtopodium judge memories',\n",
       " 'youth governance program held president held today 22 0445 pm 0600 use zoom technology watch news note kindly informed opportunity journalists question',\n",
       " 'went see sextuplets hasitha malli baby delivered free charge ninewells hospital',\n",
       " 'wish longer dream click link wish smartphone want right dfcc dfccbank bankforeveryone keepgrowing fingerscrossed makeawish offers wish wishescomingtrue festiveoffers dfcccreditcards creditcard cashback creditcardoffers',\n",
       " 'roud moment pera peeps warmest regards',\n",
       " 'buddhist sacred city another kanthankudi 50 years one temple 91 churches city manuvara instead dismissing racist religious search google map select town called mosque something think womb war also happens like',\n",
       " 'lodged complain people given wrong fake alligations regarding thilni priyalies fraud especially put complain people intentionally spreading unwanted insultations complaint made detective department sharing purpose insulting ms thilini priyamali today creating false inaccurate information claiming truthful researchers trying hide truth trying cover truth',\n",
       " 'missing alert another student peradeniya university faculty engineering goes missing',\n",
       " 'open mouth say country bankrupt also pride open mouth say country bankrupt also pride whether opposition government sri lankans passports born die country understand cannot go like asked restructure debt understand full story harshadesilva harsha4colombo harshadesilva lka see less',\n",
       " 'police day murderous police force going behind politicians proud police day murdering police favor politicians 156th police day celebrated today president prime minister speaker went proud ceremony police maintain law order country police another general department government security force therefore government agency obliged uphold law country general laws public service apply',\n",
       " 'young people made cricket field really proud talented young people asia t20 cup confirming sri lanka return world cricket lions back fighting comeback initial setback young sri lankans t20 asian champs proud cricketers teamsrilanka srilankacricket lankanlions t20asiacup2022',\n",
       " 'dear amanda thank much always filling life beautiful words coloring life words reading writings fills heart happiness thank captain rainforce force sits behind pushes forward thank much love love much know express feeling beautiful words like sorry',\n",
       " '2022 booker prize winner shehan karunathilaka seven moons maali almeida win whole countryshehan happy proud',\n",
       " 'even cricketersit good write personal characters predict happen people future matter like kohli said matter like kohli case fans say get well soon team sri lanka want win sri lanka',\n",
       " 'today beautiful special unforgettable day young girls boys gaming streaming fieldit first time top 100 guys gaming streaming sri lanka brought together one roof fun meet real life exchange ideas got chance get top streamers nero team took initiative make dream come true highlights today event see people know',\n",
       " 'results including subject gender studies compulsory subject primary education teacher training',\n",
       " 'scholarly philosophical babies talk two cyber crimes cyber crimes harassment talking experience frauds hacking threatening defamation many crimes happening programs give people understanding eliminate people fear give push make related laws stop giving stupid personal opinions learn engage critical conversations break stigma philosophical set may also face one cyber issue future let keep mouths open educate little bit instead making fun social media also kind struggle sure go police check',\n",
       " 'even innocent children used protest highway also among us tyrants took maximum advantage devotion got block money pastors country hell even festival held trying forget give international festival experience need guys ever reduce number people come remember something sons devils tamed buddhism',\n",
       " 'people said gsp lost stalin jailed stalin jailed saying get old remember say crazy nature let get rid curse old age',\n",
       " 'eat spoiled food expired politicians leave watch tube',\n",
       " 'think future also work target get used thinking outside box understand play game',\n",
       " 'target better place plan simple things jump frame matter people around say',\n",
       " 'matter anyone says apart family wherever go world good friends life birthday started little surprise thanku came love everyone wished thanku even lost',\n",
       " '11 lakh children dp education children complete contents',\n",
       " 'looking think done media ones give us trending topics every day must watch story',\n",
       " 'everyone becomes entrepreneurs much shown social media people left work businesses one tells contribute development organization good employeethat big lack',\n",
       " 'matter many dc marvel series watch daredevil series highest level point could never surpass daredevil series went netflix sorry eat character harm charlie cox character disney',\n",
       " 'actors fit character actors replaced']"
      ]
     },
     "execution_count": 30,
     "metadata": {},
     "output_type": "execute_result"
    }
   ],
   "source": [
    "cleaned_statement = []\n",
    "for index, row in tweet_corpus.iterrows():\n",
    "    text =  ' '.join([word for word in row['Statement'].split() if word not in stopwords_english])\n",
    "    cleaned_statement.append(text)\n",
    "tweet_corpus['Statement'] = cleaned_statement\n",
    "cleaned_statement"
   ]
  },
  {
   "cell_type": "markdown",
   "id": "44702ec1",
   "metadata": {},
   "source": [
    "Visualize the 1st 10 data after removing the stopwords"
   ]
  },
  {
   "cell_type": "code",
   "execution_count": 31,
   "id": "b861bc28",
   "metadata": {},
   "outputs": [
    {
     "data": {
      "text/html": [
       "<div>\n",
       "<style scoped>\n",
       "    .dataframe tbody tr th:only-of-type {\n",
       "        vertical-align: middle;\n",
       "    }\n",
       "\n",
       "    .dataframe tbody tr th {\n",
       "        vertical-align: top;\n",
       "    }\n",
       "\n",
       "    .dataframe thead th {\n",
       "        text-align: right;\n",
       "    }\n",
       "</style>\n",
       "<table border=\"1\" class=\"dataframe\">\n",
       "  <thead>\n",
       "    <tr style=\"text-align: right;\">\n",
       "      <th></th>\n",
       "      <th>Statement</th>\n",
       "      <th>Impact</th>\n",
       "    </tr>\n",
       "  </thead>\n",
       "  <tbody>\n",
       "    <tr>\n",
       "      <th>0</th>\n",
       "      <td>generally good write personal characters canno...</td>\n",
       "      <td>1</td>\n",
       "    </tr>\n",
       "    <tr>\n",
       "      <th>1</th>\n",
       "      <td>came colombo nuwara eliya trying become singer...</td>\n",
       "      <td>1</td>\n",
       "    </tr>\n",
       "    <tr>\n",
       "      <th>2</th>\n",
       "      <td>beautiful sight seen morning stjohns college n...</td>\n",
       "      <td>1</td>\n",
       "    </tr>\n",
       "    <tr>\n",
       "      <th>3</th>\n",
       "      <td>smoking bad habit menda danee 150 enough crick...</td>\n",
       "      <td>1</td>\n",
       "    </tr>\n",
       "    <tr>\n",
       "      <th>4</th>\n",
       "      <td>could buy jeep kind dreamed instead cab bought...</td>\n",
       "      <td>0</td>\n",
       "    </tr>\n",
       "    <tr>\n",
       "      <th>5</th>\n",
       "      <td>life meet people different races give us love ...</td>\n",
       "      <td>0</td>\n",
       "    </tr>\n",
       "    <tr>\n",
       "      <th>6</th>\n",
       "      <td>children must forward uncut diamond suitable g...</td>\n",
       "      <td>0</td>\n",
       "    </tr>\n",
       "    <tr>\n",
       "      <th>7</th>\n",
       "      <td>helapay business ios app submitted apple appro...</td>\n",
       "      <td>1</td>\n",
       "    </tr>\n",
       "    <tr>\n",
       "      <th>8</th>\n",
       "      <td>place went kandy shooting went shooting sudden...</td>\n",
       "      <td>1</td>\n",
       "    </tr>\n",
       "    <tr>\n",
       "      <th>9</th>\n",
       "      <td>last weekend able bring smile beautiful innoce...</td>\n",
       "      <td>1</td>\n",
       "    </tr>\n",
       "  </tbody>\n",
       "</table>\n",
       "</div>"
      ],
      "text/plain": [
       "                                           Statement  Impact\n",
       "0  generally good write personal characters canno...       1\n",
       "1  came colombo nuwara eliya trying become singer...       1\n",
       "2  beautiful sight seen morning stjohns college n...       1\n",
       "3  smoking bad habit menda danee 150 enough crick...       1\n",
       "4  could buy jeep kind dreamed instead cab bought...       0\n",
       "5  life meet people different races give us love ...       0\n",
       "6  children must forward uncut diamond suitable g...       0\n",
       "7  helapay business ios app submitted apple appro...       1\n",
       "8  place went kandy shooting went shooting sudden...       1\n",
       "9  last weekend able bring smile beautiful innoce...       1"
      ]
     },
     "execution_count": 31,
     "metadata": {},
     "output_type": "execute_result"
    }
   ],
   "source": [
    "tweet_corpus.head(10)"
   ]
  },
  {
   "cell_type": "markdown",
   "id": "cca47b0a",
   "metadata": {},
   "source": [
    "### Stemming the cleaned tweets"
   ]
  },
  {
   "cell_type": "markdown",
   "id": "8940183c",
   "metadata": {},
   "source": [
    "After cleaning the tweets by removing the stopwords, Using the word_tokenize sentences are split in to words and then using the PorterStemmer the words are reduced to its roots of words by removing the affixes, suffixes and prefixes. "
   ]
  },
  {
   "cell_type": "code",
   "execution_count": 32,
   "id": "ba8cb7af",
   "metadata": {},
   "outputs": [],
   "source": [
    "from nltk.stem import PorterStemmer\n",
    "from nltk.tokenize import word_tokenize\n",
    "\n",
    "stemmer = PorterStemmer()\n",
    "\n",
    "stemming_word_list = []\n",
    "new_statement = []\n",
    "\n",
    "for index, row in tweet_corpus.iterrows():\n",
    "    words = word_tokenize(row['Statement'])\n",
    "    for token in words:\n",
    "        stemming_word = stemmer.stem(token)    \n",
    "        stemming_word_list.append(stemming_word)\n",
    "\n",
    "    result = \" \".join(stemming_word_list)\n",
    "    new_statement.append(result)\n",
    "    \n",
    "tweet_corpus['Statement'] = new_statement"
   ]
  },
  {
   "cell_type": "markdown",
   "id": "a939585e",
   "metadata": {},
   "source": [
    "### Split the dataset into train(80%) and test(20%)"
   ]
  },
  {
   "cell_type": "markdown",
   "id": "ef0ad976",
   "metadata": {},
   "source": [
    "Uisng the train_test_split() function from the sklearn dataset is divide as 80% training data, that mean 80 data fro traing and 20 data for testing from the chosen 100 data"
   ]
  },
  {
   "cell_type": "code",
   "execution_count": 33,
   "id": "7fa2ba39",
   "metadata": {},
   "outputs": [],
   "source": [
    "from sklearn.model_selection import train_test_split\n",
    "\n",
    "X_train, X_test, y_train, y_test = train_test_split(tweet_corpus['Statement'].fillna(' '), tweet_corpus['Impact'], test_size=0.2, random_state=42)"
   ]
  },
  {
   "cell_type": "code",
   "execution_count": 34,
   "id": "e376338f",
   "metadata": {},
   "outputs": [
    {
     "name": "stdout",
     "output_type": "stream",
     "text": [
      "80\n",
      "20\n",
      "80\n",
      "20\n"
     ]
    }
   ],
   "source": [
    "print(len(X_train))\n",
    "print(len(X_test))\n",
    "print(len(y_train))\n",
    "print(len(y_test))"
   ]
  },
  {
   "cell_type": "markdown",
   "id": "572907d1",
   "metadata": {},
   "source": [
    "# Feature Extraction"
   ]
  },
  {
   "cell_type": "markdown",
   "id": "f42ae4f2",
   "metadata": {},
   "source": [
    "### Count vectorize"
   ]
  },
  {
   "cell_type": "markdown",
   "id": "e411ed7b",
   "metadata": {},
   "source": [
    "CountVectorizer from sklearn library converts the collection of text documents from the dataset to a matrix of token counts on the basis of the frequency of each word that occurs in the entire text. The training data set is vectorized to from a matrix"
   ]
  },
  {
   "cell_type": "code",
   "execution_count": 35,
   "id": "da88fb23",
   "metadata": {},
   "outputs": [],
   "source": [
    "from sklearn.feature_extraction.text import CountVectorizer\n",
    "vect = CountVectorizer(min_df= 5, ngram_range=(1,2)).fit(X_train)\n",
    "X_train_vectorized = vect.transform(X_train)"
   ]
  },
  {
   "cell_type": "markdown",
   "id": "b2d2d747",
   "metadata": {},
   "source": [
    "# Train a model"
   ]
  },
  {
   "cell_type": "markdown",
   "id": "02f1b2cc",
   "metadata": {},
   "source": [
    "### Logistic Regression"
   ]
  },
  {
   "cell_type": "markdown",
   "id": "72cac556",
   "metadata": {},
   "source": [
    "In the NLP, it's generally accepted that Logistic Regression is a great starter algorithm for text related classification. Logistic regression is said to be a good model fro sentiment analysis because it trains quickly even on large datasets and provides very robust results. Here I have imported the LogisticRegression from sklearn library and used it for the classification."
   ]
  },
  {
   "cell_type": "code",
   "execution_count": 36,
   "id": "19ade4a9",
   "metadata": {},
   "outputs": [
    {
     "data": {
      "text/html": [
       "<style>#sk-container-id-1 {color: black;background-color: white;}#sk-container-id-1 pre{padding: 0;}#sk-container-id-1 div.sk-toggleable {background-color: white;}#sk-container-id-1 label.sk-toggleable__label {cursor: pointer;display: block;width: 100%;margin-bottom: 0;padding: 0.3em;box-sizing: border-box;text-align: center;}#sk-container-id-1 label.sk-toggleable__label-arrow:before {content: \"▸\";float: left;margin-right: 0.25em;color: #696969;}#sk-container-id-1 label.sk-toggleable__label-arrow:hover:before {color: black;}#sk-container-id-1 div.sk-estimator:hover label.sk-toggleable__label-arrow:before {color: black;}#sk-container-id-1 div.sk-toggleable__content {max-height: 0;max-width: 0;overflow: hidden;text-align: left;background-color: #f0f8ff;}#sk-container-id-1 div.sk-toggleable__content pre {margin: 0.2em;color: black;border-radius: 0.25em;background-color: #f0f8ff;}#sk-container-id-1 input.sk-toggleable__control:checked~div.sk-toggleable__content {max-height: 200px;max-width: 100%;overflow: auto;}#sk-container-id-1 input.sk-toggleable__control:checked~label.sk-toggleable__label-arrow:before {content: \"▾\";}#sk-container-id-1 div.sk-estimator input.sk-toggleable__control:checked~label.sk-toggleable__label {background-color: #d4ebff;}#sk-container-id-1 div.sk-label input.sk-toggleable__control:checked~label.sk-toggleable__label {background-color: #d4ebff;}#sk-container-id-1 input.sk-hidden--visually {border: 0;clip: rect(1px 1px 1px 1px);clip: rect(1px, 1px, 1px, 1px);height: 1px;margin: -1px;overflow: hidden;padding: 0;position: absolute;width: 1px;}#sk-container-id-1 div.sk-estimator {font-family: monospace;background-color: #f0f8ff;border: 1px dotted black;border-radius: 0.25em;box-sizing: border-box;margin-bottom: 0.5em;}#sk-container-id-1 div.sk-estimator:hover {background-color: #d4ebff;}#sk-container-id-1 div.sk-parallel-item::after {content: \"\";width: 100%;border-bottom: 1px solid gray;flex-grow: 1;}#sk-container-id-1 div.sk-label:hover label.sk-toggleable__label {background-color: #d4ebff;}#sk-container-id-1 div.sk-serial::before {content: \"\";position: absolute;border-left: 1px solid gray;box-sizing: border-box;top: 0;bottom: 0;left: 50%;z-index: 0;}#sk-container-id-1 div.sk-serial {display: flex;flex-direction: column;align-items: center;background-color: white;padding-right: 0.2em;padding-left: 0.2em;position: relative;}#sk-container-id-1 div.sk-item {position: relative;z-index: 1;}#sk-container-id-1 div.sk-parallel {display: flex;align-items: stretch;justify-content: center;background-color: white;position: relative;}#sk-container-id-1 div.sk-item::before, #sk-container-id-1 div.sk-parallel-item::before {content: \"\";position: absolute;border-left: 1px solid gray;box-sizing: border-box;top: 0;bottom: 0;left: 50%;z-index: -1;}#sk-container-id-1 div.sk-parallel-item {display: flex;flex-direction: column;z-index: 1;position: relative;background-color: white;}#sk-container-id-1 div.sk-parallel-item:first-child::after {align-self: flex-end;width: 50%;}#sk-container-id-1 div.sk-parallel-item:last-child::after {align-self: flex-start;width: 50%;}#sk-container-id-1 div.sk-parallel-item:only-child::after {width: 0;}#sk-container-id-1 div.sk-dashed-wrapped {border: 1px dashed gray;margin: 0 0.4em 0.5em 0.4em;box-sizing: border-box;padding-bottom: 0.4em;background-color: white;}#sk-container-id-1 div.sk-label label {font-family: monospace;font-weight: bold;display: inline-block;line-height: 1.2em;}#sk-container-id-1 div.sk-label-container {text-align: center;}#sk-container-id-1 div.sk-container {/* jupyter's `normalize.less` sets `[hidden] { display: none; }` but bootstrap.min.css set `[hidden] { display: none !important; }` so we also need the `!important` here to be able to override the default hidden behavior on the sphinx rendered scikit-learn.org. See: https://github.com/scikit-learn/scikit-learn/issues/21755 */display: inline-block !important;position: relative;}#sk-container-id-1 div.sk-text-repr-fallback {display: none;}</style><div id=\"sk-container-id-1\" class=\"sk-top-container\"><div class=\"sk-text-repr-fallback\"><pre>LogisticRegression(max_iter=1000)</pre><b>In a Jupyter environment, please rerun this cell to show the HTML representation or trust the notebook. <br />On GitHub, the HTML representation is unable to render, please try loading this page with nbviewer.org.</b></div><div class=\"sk-container\" hidden><div class=\"sk-item\"><div class=\"sk-estimator sk-toggleable\"><input class=\"sk-toggleable__control sk-hidden--visually\" id=\"sk-estimator-id-1\" type=\"checkbox\" checked><label for=\"sk-estimator-id-1\" class=\"sk-toggleable__label sk-toggleable__label-arrow\">LogisticRegression</label><div class=\"sk-toggleable__content\"><pre>LogisticRegression(max_iter=1000)</pre></div></div></div></div></div>"
      ],
      "text/plain": [
       "LogisticRegression(max_iter=1000)"
      ]
     },
     "execution_count": 36,
     "metadata": {},
     "output_type": "execute_result"
    }
   ],
   "source": [
    "from sklearn.linear_model import LogisticRegression\n",
    "model = LogisticRegression(solver='lbfgs', max_iter=1000)\n",
    "model.fit(X_train_vectorized, y_train)"
   ]
  },
  {
   "cell_type": "markdown",
   "id": "bae02aa2",
   "metadata": {},
   "source": [
    "# Evaluating the Accuracy of model"
   ]
  },
  {
   "cell_type": "markdown",
   "id": "e5d1c0b5",
   "metadata": {},
   "source": [
    "Trained model can be used to make predictions on our test data"
   ]
  },
  {
   "cell_type": "code",
   "execution_count": 37,
   "id": "87ae4750",
   "metadata": {},
   "outputs": [],
   "source": [
    "predictions = model.predict(vect.transform(X_test))"
   ]
  },
  {
   "cell_type": "markdown",
   "id": "e1a3b7e2",
   "metadata": {},
   "source": [
    "### Find accuracy"
   ]
  },
  {
   "cell_type": "markdown",
   "id": "ae5fbf78",
   "metadata": {},
   "source": [
    "roc_auc_score function of the sklearn package calculates the accuracy score for a set of predicted labels against the true labels. The below shows the accuracy of the model rounded to 2 decimal places"
   ]
  },
  {
   "cell_type": "code",
   "execution_count": 38,
   "id": "3aeaac4e",
   "metadata": {},
   "outputs": [
    {
     "name": "stdout",
     "output_type": "stream",
     "text": [
      "test accuracy: 80.81%\n"
     ]
    }
   ],
   "source": [
    "from sklearn.metrics import roc_auc_score\n",
    "acc = roc_auc_score(y_test, predictions)\n",
    "print(\"test accuracy: {:.2f}%\".format(acc*100))"
   ]
  },
  {
   "cell_type": "markdown",
   "id": "3bb6b05a",
   "metadata": {},
   "source": [
    "### Create confusion matrix for test data"
   ]
  },
  {
   "cell_type": "markdown",
   "id": "cb9bf6ed",
   "metadata": {},
   "source": [
    "confusion_matrix from the sklearn library measures the quality of predictions from a classification model by looking at how many predictions are True and how many are False. Actual test set and the predicted values are passed in to the confusion_matrix. "
   ]
  },
  {
   "cell_type": "code",
   "execution_count": 39,
   "id": "73023744",
   "metadata": {},
   "outputs": [
    {
     "name": "stdout",
     "output_type": "stream",
     "text": [
      "[[8 3]\n",
      " [1 8]]\n"
     ]
    }
   ],
   "source": [
    "from sklearn.metrics import classification_report,confusion_matrix,accuracy_score\n",
    "matrix=confusion_matrix(y_test,predictions)\n",
    "print(matrix)"
   ]
  },
  {
   "cell_type": "markdown",
   "id": "5694fc55",
   "metadata": {},
   "source": [
    "### Plot confusion matrix"
   ]
  },
  {
   "cell_type": "markdown",
   "id": "428e9124",
   "metadata": {},
   "source": [
    "The below code shows a function plot_confusion_matrix written in order to draw  the confusion matrix for the positive and negative statments using the actual and predicted results"
   ]
  },
  {
   "cell_type": "code",
   "execution_count": 40,
   "id": "5c600819",
   "metadata": {},
   "outputs": [],
   "source": [
    "import itertools\n",
    "import matplotlib.pyplot as plt\n",
    "import numpy as np\n",
    "\n",
    "def plot_confusion_matrix(y_true, y_pred, classes,\n",
    "                          normalize=False,\n",
    "                          title='Confusion matrix',\n",
    "                          cmap=plt.cm.Blues,\n",
    "                          figsize=(9, 7)):\n",
    "    matrix = confusion_matrix(y_true, y_pred)\n",
    "\n",
    "    if normalize:\n",
    "        matrix = matrix.astype('float') / matrix.sum(axis=1)[:, np.newaxis]\n",
    "\n",
    "    plt.figure(figsize=figsize)\n",
    "    plt.imshow(matrix, interpolation='nearest', cmap=cmap)\n",
    "    plt.title(title)\n",
    "    plt.colorbar()\n",
    "\n",
    "    tick_marks = np.arange(len(classes))\n",
    "    plt.xticks(tick_marks, classes, rotation=45)\n",
    "    plt.yticks(tick_marks, classes)\n",
    "\n",
    "    fmt = '.2f' if normalize else 'd'\n",
    "    thresh = matrix.max() / 2.\n",
    "    for i, j in itertools.product(range(matrix.shape[0]), range(matrix.shape[1])):\n",
    "        plt.text(j, i, format(matrix[i, j], fmt),\n",
    "                 horizontalalignment=\"center\",\n",
    "                 size=int((figsize[0] / 10) * 38),\n",
    "                 color=\"white\" if matrix[i, j] > thresh else \"black\")\n",
    "\n",
    "    plt.tight_layout()\n",
    "    plt.ylabel('True label')\n",
    "    plt.xlabel('Predicted label')"
   ]
  },
  {
   "cell_type": "code",
   "execution_count": 41,
   "id": "d405c3f4",
   "metadata": {},
   "outputs": [
    {
     "data": {
      "image/png": "[encoded data removed]",
      "text/plain": [
       "<Figure size 500x400 with 2 Axes>"
      ]
     },
     "metadata": {},
     "output_type": "display_data"
    }
   ],
   "source": [
    "plot_confusion_matrix(y_test, predictions, ['Negative', 'Positive'], figsize=(5, 4))"
   ]
  }
 ],
 "metadata": {
  "kernelspec": {
   "display_name": "lab1",
   "language": "python",
   "name": "lab1"
  },
  "language_info": {
   "codemirror_mode": {
    "name": "ipython",
    "version": 3
   },
   "file_extension": ".py",
   "mimetype": "text/x-python",
   "name": "python",
   "nbconvert_exporter": "python",
   "pygments_lexer": "ipython3",
   "version": "3.8.2"
  }
 },
 "nbformat": 4,
 "nbformat_minor": 5
}
